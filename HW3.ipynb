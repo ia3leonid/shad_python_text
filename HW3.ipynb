{
 "cells": [
  {
   "cell_type": "code",
   "execution_count": 63,
   "metadata": {
    "collapsed": false
   },
   "outputs": [],
   "source": [
    "from string import maketrans\n",
    "import collections\n",
    "import copy\n",
    "import random\n",
    "import glob\n",
    "import pickle\n",
    "\n",
    "class TextGenerator(object):\n",
    "    def __init__(self):\n",
    "        self.text = []\n",
    "        self.pairs = []\n",
    "    def LoadFile(self, filename):\n",
    "        split_symbols = ':;!?#%^\"&*()|/-_=+@[]{}<>' + chr(0)\n",
    "        destination_dictionary = '                          '\n",
    "        tran_tab = maketrans(split_symbols, destination_dictionary)\n",
    "        with open(filename) as f:\n",
    "            for line in f:\n",
    "                tran_string = line.translate(tran_tab).lower().replace(',', ' , ')\n",
    "                self.text += tran_string.replace('.', ' . ').split()\n",
    "    def CountStatistic(self):\n",
    "        for i, word in enumerate(self.text):\n",
    "            if i == len(self.text) - 1:\n",
    "                break\n",
    "            self.pairs.append(word + ' ' + self.text[i + 1])\n",
    "        self.stat_prime = collections.Counter(self.text)\n",
    "        self.stat_after_one = {}\n",
    "        for i, word in enumerate(self.text):\n",
    "            if i == len(self.text) - 1:\n",
    "                break\n",
    "            if word not in self.stat_after_one:\n",
    "                wordcount = {}\n",
    "                wordcount[self.text[i + 1]] = 1\n",
    "                self.stat_after_one[word] = copy.copy(wordcount)\n",
    "            else:\n",
    "                if self.text[i + 1] not in self.stat_after_one[word]:\n",
    "                    self.stat_after_one[word][self.text[i + 1]] = 1\n",
    "                else:\n",
    "                    self.stat_after_one[word][self.text[i + 1]] += 1\n",
    "        self.stat_after_pair = {}\n",
    "        for i, word in enumerate(self.pairs):\n",
    "            if i == len(self.pairs) - 1:\n",
    "                break\n",
    "            if word not in self.stat_after_pair:\n",
    "                wordcount = {}\n",
    "                wordcount[self.text[i + 2]] = 1\n",
    "                self.stat_after_pair[word] = copy.copy(wordcount)\n",
    "            else:\n",
    "                if self.text[i + 2] not in self.stat_after_pair[word]:\n",
    "                    self.stat_after_pair[word][self.text[i + 2]] = 1\n",
    "                else:\n",
    "                    self.stat_after_pair[word][self.text[i + 2]] += 1\n",
    "    def ChooseFirstWord(self, n = 100):\n",
    "        word = self.stat_prime.most_common(n)\n",
    "        n = min(len(word), n)\n",
    "        return word[random.randint(0, n-1)][0]\n",
    "    def ChooseSecondWord(self, word, n = 100):\n",
    "        if word not in self.stat_after_one:\n",
    "            return None\n",
    "        next_word = sorted(self.stat_after_one[word], key=self.stat_after_one[word].get)[-n:]\n",
    "        n = min(len(next_word), n)\n",
    "        return next_word[random.randint(0, n-1)]\n",
    "    def ChooseNextWord(self, pair, n = 100):\n",
    "        if pair not in self.stat_after_pair:\n",
    "            return None\n",
    "        word = sorted(self.stat_after_pair[pair], key=self.stat_after_pair[pair].get)[-n:]\n",
    "        n = min(len(word), n)\n",
    "        return word[random.randint(0, n-1)]\n",
    "    def SaveStatistic(self):\n",
    "        with open('text.pickle', 'wb') as f:\n",
    "            pickle.dump(self.text, f, pickle.HIGHEST_PROTOCOL)\n",
    "        with open('prime.pickle', 'wb') as f:\n",
    "            pickle.dump(self.stat_prime, f, pickle.HIGHEST_PROTOCOL)\n",
    "        with open('after_one.pickle', 'wb') as f:\n",
    "            pickle.dump(self.stat_after_one, f, pickle.HIGHEST_PROTOCOL)\n",
    "        with open('after_pair.pickle', 'wb') as f:\n",
    "            pickle.dump(self.stat_after_pair, f, pickle.HIGHEST_PROTOCOL)\n",
    "    def LoadStatistic(self):\n",
    "        with open('text.pickle', 'rb') as f:\n",
    "            self.text = pickle.load(f)\n",
    "        with open('prime.pickle', 'rb') as f:\n",
    "            self.stat_prime = pickle.load(f)\n",
    "        with open('after_one.pickle', 'rb') as f:\n",
    "            self.stat_after_one = pickle.load(f)\n",
    "        with open('after_pair.pickle', 'rb') as f:\n",
    "            self.stat_after_pair = pickle.load(f)\n",
    "    def Display(self):\n",
    "        print 'Number of seen words {}'.format(len(self.text))\n",
    "        print 'Number of prime words {}'.format(len(self.stat_after_one))\n",
    "        print 'Number of pairs {}'.format(len(self.stat_after_pair))"
   ]
  },
  {
   "cell_type": "code",
   "execution_count": 64,
   "metadata": {
    "collapsed": true
   },
   "outputs": [],
   "source": [
    "def GetCapitalIfFirst(word, first):\n",
    "    if first:\n",
    "        return word[0].upper() + word[1:]\n",
    "    else:\n",
    "        return word\n",
    "\n",
    "def Generate(Generator, n):\n",
    "    isfirst = True\n",
    "    issecond = True\n",
    "    word = ''\n",
    "    next_word = ''\n",
    "    result = ''\n",
    "    for i in xrange(n):\n",
    "        if isfirst:\n",
    "            word = Generator.ChooseFirstWord(100)\n",
    "            while word == ',' or word == '.':\n",
    "                word = Generator.ChooseFirstWord(100)\n",
    "            result += ' ' + GetCapitalIfFirst(word, isfirst)\n",
    "            isfirst = False\n",
    "            issecond = True\n",
    "            continue\n",
    "        elif issecond:\n",
    "            next_word = Generator.ChooseSecondWord(word, 1)\n",
    "            issecond = False\n",
    "        else:\n",
    "            pair = word + ' ' + next_word\n",
    "            word = copy.copy(next_word)\n",
    "            next_word = Generator.ChooseNextWord(pair, 10)\n",
    "        if next_word is None or next_word == '.':\n",
    "            isfirst = True\n",
    "            result += '.'\n",
    "        elif next_word == ',':\n",
    "            result += ','\n",
    "        else:\n",
    "            result += ' ' + GetCapitalIfFirst(next_word, isfirst)\n",
    "    return result[1:]"
   ]
  },
  {
   "cell_type": "code",
   "execution_count": null,
   "metadata": {
    "collapsed": false
   },
   "outputs": [],
   "source": [
    "if __name__ == \"__main__\":\n",
    "    s = TextGenerator()\n",
    "    files = glob.glob('dickens/*txt') + glob.glob('asimov/*txt') + glob.glob('pratchett/*txt')\n",
    "    for f in files:\n",
    "        s.LoadFile(f)\n",
    "    files = glob.glob('shakespeare_and_holmes/*.txt')\n",
    "    for f in files:\n",
    "        s.LoadFile(f)\n",
    "    s.CountStatistic()\n",
    "    print Generate(s, 500)"
   ]
  },
  {
   "cell_type": "code",
   "execution_count": 65,
   "metadata": {
    "collapsed": true
   },
   "outputs": [],
   "source": [
    "s = TextGenerator()"
   ]
  },
  {
   "cell_type": "code",
   "execution_count": 66,
   "metadata": {
    "collapsed": true
   },
   "outputs": [],
   "source": [
    "files = glob.glob('dickens/*txt') + glob.glob('asimov/*txt') + glob.glob('pratchett/*txt')"
   ]
  },
  {
   "cell_type": "code",
   "execution_count": 67,
   "metadata": {
    "collapsed": false
   },
   "outputs": [],
   "source": [
    "for f in files:\n",
    "    s.LoadFile(f)"
   ]
  },
  {
   "cell_type": "code",
   "execution_count": 68,
   "metadata": {
    "collapsed": false,
    "scrolled": true
   },
   "outputs": [
    {
     "name": "stdout",
     "output_type": "stream",
     "text": [
      "Number of seen words 20126400\n",
      "Number of prime words 153664\n",
      "Number of pairs 2565729\n"
     ]
    }
   ],
   "source": [
    "s.CountStatistic()\n",
    "s.Display()"
   ]
  },
  {
   "cell_type": "code",
   "execution_count": null,
   "metadata": {
    "collapsed": true
   },
   "outputs": [],
   "source": [
    "s.SaveStatistic()"
   ]
  },
  {
   "cell_type": "code",
   "execution_count": 47,
   "metadata": {
    "collapsed": false
   },
   "outputs": [
    {
     "name": "stdout",
     "output_type": "stream",
     "text": [
      "Number of seen words 794\n",
      "Number of prime words 34\n",
      "Number of pairs 296\n"
     ]
    }
   ],
   "source": [
    "s.LoadStatistic()\n",
    "s.Display()"
   ]
  },
  {
   "cell_type": "code",
   "execution_count": 55,
   "metadata": {
    "collapsed": false,
    "scrolled": true
   },
   "outputs": [
    {
     "name": "stdout",
     "output_type": "stream",
     "text": [
      "26\n",
      "26\n"
     ]
    }
   ],
   "source": [
    "s.LoadFile('Ceres.txt')"
   ]
  },
  {
   "cell_type": "code",
   "execution_count": 70,
   "metadata": {
    "collapsed": false,
    "scrolled": true
   },
   "outputs": [
    {
     "name": "stdout",
     "output_type": "stream",
     "text": [
      "That the whole thing to do. Them. That the two young children i hope so ' the young men in black velvet mask, of whom i love. ' said ralph impatiently. All the same place twice while i write. Know, said the gentleman. Have been to school with her. This is an extremely rare species totally extinct. Any of that and you, mr nickleby had never thought to his feet in hot regions like djelibeybi or in other ways. Did not look at me i had a chance of survival may be able to…sense her, she felt the wind had died when you first come when they have to, said avalon stiffly. Be a very long before you get a few times as bright a face, but it had never been on this, i have had it in. With a great number, the only one of my way. Now, the same, and, as if they can make you, sir ’ the girl, ' cried tom 'yes, my dear ' and with her, with her. As he was a long way. Back to their home. At the time of her life was so. Even if he had no choice in his eyes on him with a great variety of shapes and colors are umber and gold, ” the patrician nodded at one and the door of her eyes to their seats behind, who would be to me. About the time i will go down into my head, he had not heard. From the other way around to be an easy thing. Me, and was going to make them feel good to see a human, the more i understand this. Been a mistake my intentions is now ” there was another sound made him look at this point the finger and held his little finger or a replacement was in her hand to take the ship had been in a few moments later rincewind smelled bacon frying. This is your first year they live, you would have the honour which amicably adjusted the rods rested, was in the way to his knees at mr toots said in a little more to it, and i have had to make the best way you do or will have an answer for that, and i would rather die, you are a robot could be, for he has done nothing to lose a moment, he would never get there i thought you were a number. See, i would. Know, said the captain said one morning and, if there should come to see a way out through the streets were deserted in all respects not at this, as she looked, she had\n"
     ]
    }
   ],
   "source": [
    "print Generate(s, 500)"
   ]
  },
  {
   "cell_type": "code",
   "execution_count": null,
   "metadata": {
    "collapsed": true
   },
   "outputs": [],
   "source": []
  }
 ],
 "metadata": {
  "kernelspec": {
   "display_name": "Python 2",
   "language": "python",
   "name": "python2"
  },
  "language_info": {
   "codemirror_mode": {
    "name": "ipython",
    "version": 2
   },
   "file_extension": ".py",
   "mimetype": "text/x-python",
   "name": "python",
   "nbconvert_exporter": "python",
   "pygments_lexer": "ipython2",
   "version": "2.7.10"
  }
 },
 "nbformat": 4,
 "nbformat_minor": 0
}
